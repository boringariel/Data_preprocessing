{
 "cells": [
  {
   "cell_type": "code",
   "execution_count": 1,
   "metadata": {},
   "outputs": [],
   "source": [
    "import pandas as pd\n",
    "pd.set_option('display.max_columns', 600)\n",
    "\n",
    "#ens_id <-> gene name converter\n",
    "import mygene\n",
    "mg = mygene.MyGeneInfo()\n",
    "\n",
    "from scipy import stats\n",
    "import numpy as np"
   ]
  },
  {
   "cell_type": "code",
   "execution_count": 2,
   "metadata": {},
   "outputs": [
    {
     "name": "stderr",
     "output_type": "stream",
     "text": [
      "C:\\Users\\bioinfo205_01\\Anaconda3\\lib\\site-packages\\IPython\\core\\interactiveshell.py:3020: DtypeWarning: Columns (1,2,3,4,5,6,7,8,9,10,11,12,13,14,15,16,17,18,19,20,21,22,23,24,25,26,27,28,29,30,31,32,33,34,35,36,37,38,39,40,41,42,43,44,45,46,47,48,49,50,51,52,53,54,55,56,57,58,59,60,61,62,63,64,65,66,67,68,69,70,71,72,73,74,75,76,77,78,79,80,81,82,83,84,85,86,87,88,89,90,91,92,93,94,95,96,97,98,99,100,101,102,103,104,105,106,107,108,109,110,111,112,113,114,115,116,117,118,119,120,121,122,123,124,125,126,127,128,129,130,131,132,133,134,135,136,137,138,139,140,141,142,143,144,145,146,147,148,149,150,151,152,153,154,155,156,157,158,159,160,161,162,163,164,165,166,167,168,169,170,171,172,173,174,175,176,177,178,179,180,181,182,183,184,185,186,187,188,189,190,191,192,193,194,195,196,197,198,199,200,201,202,203,204,205,206,207,208,209,210,211,212,213,214,215,216,217,218,219,220,221,222,223,224,225,226,227,228,229,230,231,232,233,234,235,236,237,238,239,240,241,242,243,244,245,246,247,248,249,250,251,252,253,254,255,256,257,258,259,260,261,262,263,264,265,266,267,268,269,270,271,272,273,274,275,276,277,278,279,280,281,282,283,284,285,286,287,288,289,290,291,292,293,294,295,296,297,298,299,300,301,302,303,304,305,306,307,308,309) have mixed types. Specify dtype option on import or set low_memory=False.\n",
      "  interactivity=interactivity, compiler=compiler, result=result)\n"
     ]
    }
   ],
   "source": [
    "#using UCSC Xena data\n",
    "cesc1 = pd.read_csv('./TCGA-CESC.GDC_phenotype.tsv', sep='\\t')\n",
    "cesc2 = pd.read_csv('./TCGA-CESC.htseq_fpkm-uq.tsv', sep='\\t', header=None)\n",
    "\n",
    "cesc2[0] = cesc2[0].apply(lambda x: x.split('.')[0])\n",
    "cesc2 = cesc2.T\n",
    "cesc2.columns = cesc2.iloc[0,:]"
   ]
  },
  {
   "cell_type": "code",
   "execution_count": 3,
   "metadata": {},
   "outputs": [
    {
     "name": "stdout",
     "output_type": "stream",
     "text": [
      "querying 1-46...done.\n",
      "Finished.\n",
      "1 input query terms found no hit:\n",
      "\t['LOC51190']\n",
      "Pass \"returnall=True\" to return complete lists of duplicate or missing query terms.\n"
     ]
    }
   ],
   "source": [
    "#target gene *46*\n",
    "gene = ['A4GALT','ASAH1','NAAA','B4GALT6','BECN1','BNIP3','CERK','DEGS1',\n",
    "        'S1PR1','LPAR1','LPAR2','S1PR2','S1PR4','KDSR','GAL3ST1','GALC','B4GALNT1',\n",
    "        'GBA','HPGD','CERS1','CERS2','CERS3','CERS4','CERS5','CERS6','LCT',\n",
    "        'LOC51190','NSMAF','SFTPB','SLC26A10','SMPD1','SMPD2','SMPDL3A','SMPDL3B',\n",
    "        'SPHK1','SPHK2','SPTLC1','SPTLC2','ST3GAL5','ST6GALNAC5','ST8SIA1',\n",
    "        'ST8SIA3','UGCG','UGGT1','UGGT2','UGT8']\n",
    "\n",
    "#ens_id serching\n",
    "out = mg.querymany(gene, scopes='symbol', fields='ensembl.gene', species='human')\n",
    "\n",
    "#gene3: gene - ens_id df\n",
    "gene2 = pd.DataFrame(['enpty'])\n",
    "\n",
    "for i in range(0, len(out)):\n",
    "    try:\n",
    "        gene2.loc[i] = out[i]['ensembl']['gene']\n",
    "    except KeyError:\n",
    "        gene2.loc[i] = 'unknown'+str(i)\n",
    "    except TypeError:\n",
    "        gene2.loc[i] = out[i]['ensembl'][0]['gene']\n",
    "\n",
    "gene = pd.DataFrame(gene, columns=['gene'])\n",
    "        \n",
    "gene3 = gene\n",
    "gene3['ens_id'] = gene2"
   ]
  },
  {
   "cell_type": "code",
   "execution_count": 4,
   "metadata": {},
   "outputs": [],
   "source": [
    "#clinical data - RNAseq data merge\n",
    "cesc = pd.merge(cesc1, cesc2,\n",
    "             how='inner',\n",
    "             left_on='submitter_id.samples',\n",
    "             right_on='Ensembl_ID',\n",
    "             sort=True,\n",
    "             indicator=False)"
   ]
  },
  {
   "cell_type": "code",
   "execution_count": 5,
   "metadata": {},
   "outputs": [],
   "source": [
    "#paired data masking\n",
    "m = cesc['submitter_id.samples'].str.contains('-11') == True\n",
    "\n",
    "#'TCGA-FU-A3EO-01A' - 'TCGA-FU-A3EO-01A'\n",
    "#'TCGA-HM-A3JJ-01A' - 'TCGA-HM-A3JJ-11A'\n",
    "#'TCGA-MY-A5BF-01A' - 'TCGA-MY-A5BF-11A'\n",
    "m2 = cesc['submitter_id.samples'] == 'TCGA-FU-A3EO-01A'\n",
    "m3 = cesc['submitter_id.samples'] == 'TCGA-HM-A3JJ-01A'\n",
    "m4 = cesc['submitter_id.samples'] == 'TCGA-MY-A5BF-01A'\n",
    "\n",
    "temp1 = cesc[m2]\n",
    "temp2 = cesc[m3]\n",
    "temp3 = cesc[m4]\n",
    "\n",
    "tumor = pd.concat([temp1, temp2, temp3]).reset_index()\n",
    "n_tumor = cesc[m].reset_index()"
   ]
  },
  {
   "cell_type": "code",
   "execution_count": 6,
   "metadata": {},
   "outputs": [],
   "source": [
    "#target gene masking\n",
    "tumor2 = tumor.T\n",
    "tumor2['index1'] = tumor2.index\n",
    "\n",
    "tumor2 = pd.merge(tumor2, gene3,\n",
    "             how='inner',\n",
    "             left_on='index1',\n",
    "             right_on='ens_id',\n",
    "             sort=False,\n",
    "             indicator=False)\n",
    "\n",
    "tumor2 = tumor2.T\n",
    "tumor2.columns = tumor2.iloc[-1,:]\n",
    "\n",
    "\n",
    "n_tumor2 = n_tumor.T\n",
    "\n",
    "n_tumor2['index1'] = n_tumor2.index\n",
    "\n",
    "n_tumor2 = pd.merge(n_tumor2, gene3,\n",
    "             how='inner',\n",
    "             left_on='index1',\n",
    "             right_on='ens_id',\n",
    "             sort=False,\n",
    "             indicator=False)\n",
    "\n",
    "n_tumor2 = n_tumor2.T\n",
    "n_tumor2.columns = n_tumor2.iloc[-1,:]"
   ]
  },
  {
   "cell_type": "code",
   "execution_count": 7,
   "metadata": {},
   "outputs": [
    {
     "name": "stderr",
     "output_type": "stream",
     "text": [
      "C:\\Users\\bioinfo205_01\\Anaconda3\\lib\\site-packages\\pandas\\core\\indexing.py:630: SettingWithCopyWarning: \n",
      "A value is trying to be set on a copy of a slice from a DataFrame.\n",
      "Try using .loc[row_indexer,col_indexer] = value instead\n",
      "\n",
      "See the caveats in the documentation: http://pandas.pydata.org/pandas-docs/stable/indexing.html#indexing-view-versus-copy\n",
      "  self.obj[item_labels[indexer[info_axis]]] = value\n",
      "C:\\Users\\bioinfo205_01\\Anaconda3\\lib\\site-packages\\pandas\\core\\indexing.py:543: SettingWithCopyWarning: \n",
      "A value is trying to be set on a copy of a slice from a DataFrame.\n",
      "Try using .loc[row_indexer,col_indexer] = value instead\n",
      "\n",
      "See the caveats in the documentation: http://pandas.pydata.org/pandas-docs/stable/indexing.html#indexing-view-versus-copy\n",
      "  self.obj[item] = s\n"
     ]
    },
    {
     "name": "stdout",
     "output_type": "stream",
     "text": [
      "(0.7953522205352783, 1.9015444600867237e-12)\n",
      "(0.8101568222045898, 6.219632014276e-12)\n"
     ]
    }
   ],
   "source": [
    "tumor3 = tumor2.iloc[0:3]\n",
    "n_tumor3 = n_tumor2.iloc[0:3]\n",
    "\n",
    "for i in range(0,(tumor3.shape[1])):\n",
    "    tumor3.iloc[:,i] = pd.to_numeric(tumor3.iloc[:,i])\n",
    "    n_tumor3.iloc[:,i] = pd.to_numeric(n_tumor3.iloc[:,i])\n",
    "\n",
    "#shapiro-wilk test. p<.05  >>> Wilcoxon test\n",
    "print(stats.shapiro(tumor3))\n",
    "print(stats.shapiro(n_tumor3))"
   ]
  },
  {
   "cell_type": "code",
   "execution_count": 8,
   "metadata": {},
   "outputs": [
    {
     "name": "stderr",
     "output_type": "stream",
     "text": [
      "C:\\Users\\bioinfo205_01\\Anaconda3\\lib\\site-packages\\scipy\\stats\\morestats.py:2388: UserWarning: Warning: sample size too small for normal approximation.\n",
      "  warnings.warn(\"Warning: sample size too small for normal approximation.\")\n"
     ]
    }
   ],
   "source": [
    "#Wilcoxon’s signed-ranks test\n",
    "#res: [result, p-value] df\n",
    "res = pd.DataFrame()\n",
    "\n",
    "for i in range (tumor3.shape[1]):\n",
    "    temp = stats.wilcoxon(pd.to_numeric(tumor2.iloc[0:3,i]), pd.to_numeric(n_tumor3.iloc[0:3,i]))\n",
    "    res.insert(i, i, [tumor2.iloc[3,i], tumor2.iloc[4,i], temp[0], temp[1]])\n",
    "\n",
    "res.columns = res.iloc[0,:]\n",
    "res = res.iloc[1:]\n",
    "res.index = ['gene', 'statistic', 'p-val']"
   ]
  },
  {
   "cell_type": "code",
   "execution_count": 9,
   "metadata": {},
   "outputs": [],
   "source": [
    "#data output\n",
    "tumor.to_csv('./tumor_sample.csv', index=False)\n",
    "n_tumor.to_csv('./normal_sample.csv', index=False)\n",
    "res.to_csv('./result.csv')"
   ]
  },
  {
   "cell_type": "code",
   "execution_count": 10,
   "metadata": {},
   "outputs": [
    {
     "data": {
      "text/plain": [
       "RanksumsResult(statistic=-0.5527744798375062, pvalue=0.5804178455954285)"
      ]
     },
     "execution_count": 10,
     "metadata": {},
     "output_type": "execute_result"
    }
   ],
   "source": [
    "#Wilcoxon’s rank-sum test. uning mean value\n",
    "\n",
    "tumor4 = tumor2\n",
    "\n",
    "temp = []\n",
    "\n",
    "for i in range(0,(tumor4.shape[1])):\n",
    "    temp.append(np.mean(pd.to_numeric(tumor4.iloc[0:3,i])))\n",
    "\n",
    "temp = pd.DataFrame(temp).T\n",
    "temp.columns=tumor4.columns\n",
    "\n",
    "tumor4 = tumor4.append(temp)\n",
    "\n",
    "n_tumor4 = n_tumor2\n",
    "\n",
    "temp = []\n",
    "\n",
    "for i in range(0,(n_tumor4.shape[1])):\n",
    "    temp.append(np.mean(pd.to_numeric(n_tumor4.iloc[0:3,i])))\n",
    "\n",
    "temp = pd.DataFrame(temp).T\n",
    "temp.columns=n_tumor4.columns\n",
    "\n",
    "n_tumor4 = n_tumor4.append(temp)\n",
    "\n",
    "stats.ranksums(pd.to_numeric(tumor4.iloc[-1]), pd.to_numeric(n_tumor4.iloc[-1]))"
   ]
  },
  {
   "cell_type": "code",
   "execution_count": 11,
   "metadata": {},
   "outputs": [
    {
     "name": "stdout",
     "output_type": "stream",
     "text": [
      "(0.8136442303657532, 4.810991413251031e-06)\n",
      "(0.8070154786109924, 3.404478093216312e-06)\n"
     ]
    }
   ],
   "source": [
    "#shapiro-wilk test. p<.05  >>> Wilcoxon test\n",
    "print(stats.shapiro(tumor4.iloc[-1]))\n",
    "print(stats.shapiro(n_tumor4.iloc[-1]))"
   ]
  }
 ],
 "metadata": {
  "kernelspec": {
   "display_name": "Python 3",
   "language": "python",
   "name": "python3"
  },
  "language_info": {
   "codemirror_mode": {
    "name": "ipython",
    "version": 3
   },
   "file_extension": ".py",
   "mimetype": "text/x-python",
   "name": "python",
   "nbconvert_exporter": "python",
   "pygments_lexer": "ipython3",
   "version": "3.7.1"
  }
 },
 "nbformat": 4,
 "nbformat_minor": 2
}
