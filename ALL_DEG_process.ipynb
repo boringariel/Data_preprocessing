{
 "cells": [
  {
   "cell_type": "code",
   "execution_count": 1,
   "metadata": {},
   "outputs": [],
   "source": [
    "import pandas as pd\n",
    "pd.set_option('display.max_columns', 600)\n",
    "\n",
    "from scipy import stats\n",
    "import numpy as np"
   ]
  },
  {
   "cell_type": "code",
   "execution_count": 2,
   "metadata": {},
   "outputs": [
    {
     "name": "stderr",
     "output_type": "stream",
     "text": [
      "C:\\Users\\bioinfo205_01\\Anaconda3\\lib\\site-packages\\IPython\\core\\interactiveshell.py:3020: DtypeWarning: Columns (1,2,3,4,5,6,7,8,9,10,11,12,13,14,15,16,17,18,19,20,21,22,23,24,25,26,27,28,29,30,31,32,33,34,35,36,37,38,39,40,41,42,43,44,45,46,47,48,49,50,51,52,53,54,55,56,57,58,59,60,61,62,63,64,65,66,67,68,69,70,71,72,73,74,75,76,77,78,79,80,81,82,83,84,85,86,87,88,89,90,91,92,93,94,95,96,97,98,99,100,101,102,103,104,105,106,107,108,109,110,111,112,113,114,115,116,117,118,119,120,121,122,123,124,125,126,127,128,129,130,131,132,133,134,135,136,137,138,139,140,141,142,143,144,145,146,147,148,149,150,151,152,153,154,155,156,157,158,159,160,161,162,163,164,165,166,167,168,169,170,171,172,173,174,175,176,177,178,179,180,181,182,183,184,185,186,187,188,189,190,191,192,193,194,195,196,197,198,199,200,201,202,203,204) have mixed types. Specify dtype option on import or set low_memory=False.\n",
      "  interactivity=interactivity, compiler=compiler, result=result)\n"
     ]
    }
   ],
   "source": [
    "rna = pd.read_csv(\"./cBioPotal/all_phase2_target_2018_pub_(pediatric)/data_RNA_Seq_expression_median.txt\", sep = '\\t', header = None)\n",
    "table = pd.read_csv(\"./cBioPotal/all_phase2_target_2018_pub_(pediatric)/all_phase2_target_2018_pub_clinical_data.csv\")\n",
    "\n",
    "#RNA preprocessing\n",
    "rna.columns = rna.iloc[0,:]\n",
    "del rna['Entrez_Gene_Id']\n",
    "rna = rna.drop_duplicates('Hugo_Symbol', keep = 'first').dropna()\n",
    "\n",
    "rna = rna.T\n",
    "\n",
    "rna.columns = rna.iloc[0,:]\n",
    "rna = rna[1:]\n",
    "\n",
    "table4 = pd.merge(table, rna, left_on = 'Sample ID', right_on = 'Hugo_Symbol')"
   ]
  },
  {
   "cell_type": "code",
   "execution_count": 61,
   "metadata": {},
   "outputs": [
    {
     "name": "stdout",
     "output_type": "stream",
     "text": [
      "(163, 22899)\n"
     ]
    }
   ],
   "source": [
    "#########################################non-paired sample\n",
    "m = table4['Sample ID'].str.contains('-04') == True\n",
    "m2 = table4['Sample ID'].str.contains('-09') == True\n",
    "\n",
    "paired = pd.concat([table4[m], table4[m2]])\n",
    "paired = paired.sort_values(by='Sample ID').reset_index()\n",
    "\n",
    "paired['Relapse'] = paired['Sample ID'].str.contains('-04') == True\n",
    "\n",
    "print(paired.shape)\n",
    "\n",
    "#data output\n",
    "eset = paired.loc[:,'TSPAN6':'LIN37']\n",
    "pset = paired.loc[:, ['Sample ID', 'Relapse']]\n",
    "\n",
    "eset.to_csv('./eset.csv')\n",
    "pset.to_csv('./pset.csv')"
   ]
  },
  {
   "cell_type": "code",
   "execution_count": 60,
   "metadata": {},
   "outputs": [
    {
     "name": "stderr",
     "output_type": "stream",
     "text": [
      "C:\\Users\\bioinfo205_01\\Anaconda3\\lib\\site-packages\\ipykernel_launcher.py:19: FutureWarning: Sorting because non-concatenation axis is not aligned. A future version\n",
      "of pandas will change to not sort by default.\n",
      "\n",
      "To accept the future behavior, pass 'sort=False'.\n",
      "\n",
      "To retain the current behavior and silence the warning, pass 'sort=True'.\n",
      "\n"
     ]
    },
    {
     "name": "stdout",
     "output_type": "stream",
     "text": [
      "(78, 22898)\n"
     ]
    }
   ],
   "source": [
    "########################################paired sample\n",
    "df = table4[table4['Sample ID'].str.contains('-04')]\n",
    "df2 = table4[table4['Sample ID'].str.contains('-09')]\n",
    "\n",
    "cols = list(df.columns)\n",
    "\n",
    "df3 = pd.merge(df, df2, on='Patient ID')\n",
    "\n",
    "df = df3.loc[:,:'LIN37_x']\n",
    "df2 = df3.loc[:,'Study ID_y':]\n",
    "df2['Patient ID'] = df3['Patient ID']\n",
    "\n",
    "df.columns = cols\n",
    "\n",
    "cols.remove('Patient ID')\n",
    "cols.append('Patient ID')\n",
    "\n",
    "df2.columns = cols\n",
    "\n",
    "paired = pd.concat([df, df2], axis=0)\n",
    "\n",
    "paired = paired.sort_values(by='Sample ID')\n",
    "paired['Relapse'] = paired['Sample ID'].str.contains('-04') == True\n",
    "\n",
    "pcols = list(rna.columns)\n",
    "pcols.remove('Hugo_Symbol')\n",
    "\n",
    "print(paired.shape)\n",
    "\n",
    "#data output\n",
    "eset = paired[pcols].reset_index(drop=True)\n",
    "pset = paired.loc[:, ['Sample ID', 'Relapse']].reset_index(drop=True)\n",
    "\n",
    "eset.to_csv('./eset.csv')\n",
    "pset.to_csv('./pset.csv')"
   ]
  },
  {
   "cell_type": "code",
   "execution_count": 54,
   "metadata": {},
   "outputs": [
    {
     "name": "stdout",
     "output_type": "stream",
     "text": [
      "deg----------------------------\n",
      "deg_pl:  (0, 7)\n",
      "deg_mi:  (0, 7)\n"
     ]
    },
    {
     "name": "stderr",
     "output_type": "stream",
     "text": [
      "C:\\Users\\bioinfo205_01\\Anaconda3\\lib\\site-packages\\ipykernel_launcher.py:12: UserWarning: Boolean Series key will be reindexed to match DataFrame index.\n",
      "  if sys.path[0] == '':\n",
      "C:\\Users\\bioinfo205_01\\Anaconda3\\lib\\site-packages\\ipykernel_launcher.py:21: UserWarning: Boolean Series key will be reindexed to match DataFrame index.\n"
     ]
    }
   ],
   "source": [
    "###########################################DEG processing\n",
    "target_fdr = 0.05\n",
    "target_logfc = 1.5\n",
    "\n",
    "#deg cutoff\n",
    "deg = pd.read_csv('./res.csv')\n",
    "\n",
    "def degpl(deg):\n",
    "    m = deg['adj.P.Val'] < target_fdr\n",
    "    m_pl = deg['logFC'] > target_logfc\n",
    "    deg_pl = deg[m][m_pl]\n",
    "    \n",
    "    print('deg_pl: ', deg_pl.shape)\n",
    "    return deg_pl\n",
    "\n",
    "def degmi(deg):\n",
    "    m = deg['adj.P.Val'] < target_fdr\n",
    "    m_mi = deg['logFC'] < -target_logfc\n",
    "    \n",
    "    deg_mi = deg[m][m_mi]\n",
    "    print('deg_mi: ', deg_mi.shape)\n",
    "    return deg_mi\n",
    "\n",
    "def changechr(n):\n",
    "    try:\n",
    "        return n.split('.')[0] + '-' + n.split('.')[1]\n",
    "    except:\n",
    "        return n\n",
    "\n",
    "print('deg----------------------------')\n",
    "deg_pl = degpl(deg)\n",
    "deg_mi = degmi(deg)\n",
    "deg_pl[\"Unnamed: 0\"] = deg_pl[\"Unnamed: 0\"].apply(lambda x: changechr(x))\n",
    "deg_mi[\"Unnamed: 0\"] = deg_mi[\"Unnamed: 0\"].apply(lambda x: changechr(x))\n",
    "\n",
    "deg_pl.to_csv('./deg_pl.csv')\n",
    "deg_mi.to_csv('./deg_mi.csv')"
   ]
  },
  {
   "cell_type": "code",
   "execution_count": null,
   "metadata": {},
   "outputs": [],
   "source": []
  }
 ],
 "metadata": {
  "kernelspec": {
   "display_name": "Python 3",
   "language": "python",
   "name": "python3"
  },
  "language_info": {
   "codemirror_mode": {
    "name": "ipython",
    "version": 3
   },
   "file_extension": ".py",
   "mimetype": "text/x-python",
   "name": "python",
   "nbconvert_exporter": "python",
   "pygments_lexer": "ipython3",
   "version": "3.7.1"
  }
 },
 "nbformat": 4,
 "nbformat_minor": 2
}
