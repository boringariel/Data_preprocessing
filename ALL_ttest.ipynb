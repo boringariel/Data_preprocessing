{
 "cells": [
  {
   "cell_type": "code",
   "execution_count": 1,
   "metadata": {},
   "outputs": [
    {
     "name": "stderr",
     "output_type": "stream",
     "text": [
      "Loading required package: Biobase\n",
      "Loading required package: BiocGenerics\n",
      "Loading required package: parallel\n",
      "\n",
      "Attaching package: 'BiocGenerics'\n",
      "\n",
      "The following objects are masked from 'package:parallel':\n",
      "\n",
      "    clusterApply, clusterApplyLB, clusterCall, clusterEvalQ,\n",
      "    clusterExport, clusterMap, parApply, parCapply, parLapply,\n",
      "    parLapplyLB, parRapply, parSapply, parSapplyLB\n",
      "\n",
      "The following objects are masked from 'package:stats':\n",
      "\n",
      "    IQR, mad, sd, var, xtabs\n",
      "\n",
      "The following objects are masked from 'package:base':\n",
      "\n",
      "    anyDuplicated, append, as.data.frame, basename, cbind, colMeans,\n",
      "    colnames, colSums, dirname, do.call, duplicated, eval, evalq,\n",
      "    Filter, Find, get, grep, grepl, intersect, is.unsorted, lapply,\n",
      "    lengths, Map, mapply, match, mget, order, paste, pmax, pmax.int,\n",
      "    pmin, pmin.int, Position, rank, rbind, Reduce, rowMeans, rownames,\n",
      "    rowSums, sapply, setdiff, sort, table, tapply, union, unique,\n",
      "    unsplit, which, which.max, which.min\n",
      "\n",
      "Welcome to Bioconductor\n",
      "\n",
      "    Vignettes contain introductory material; view with\n",
      "    'browseVignettes()'. To cite Bioconductor, see\n",
      "    'citation(\"Biobase\")', and for packages 'citation(\"pkgname\")'.\n",
      "\n",
      "Setting options('download.file.method.GEOquery'='auto')\n",
      "Setting options('GEOquery.inmemory.gpl'=FALSE)\n"
     ]
    }
   ],
   "source": [
    "library(GEOquery)\n",
    "library (rcompanion)\n",
    "library(ggplot2)"
   ]
  },
  {
   "cell_type": "markdown",
   "metadata": {},
   "source": [
    "---\n",
    "## GSE60926"
   ]
  },
  {
   "cell_type": "code",
   "execution_count": 2,
   "metadata": {},
   "outputs": [
    {
     "name": "stderr",
     "output_type": "stream",
     "text": [
      "Found 1 file(s)\n",
      "GSE60926_series_matrix.txt.gz\n",
      "Parsed with column specification:\n",
      "cols(\n",
      "  .default = col_double(),\n",
      "  ID_REF = col_character()\n",
      ")\n",
      "See spec(...) for full column specifications.\n",
      "File stored at: \n",
      "C:\\Users\\BIOINF~1\\AppData\\Local\\Temp\\RtmpAJx8zJ/GPL570.soft\n"
     ]
    },
    {
     "data": {
      "text/html": [
       "<strong>$method</strong> = 'Shapiro-Wilk normality test'"
      ],
      "text/latex": [
       "\\textbf{\\$method} = 'Shapiro-Wilk normality test'"
      ],
      "text/markdown": [
       "**$method** = 'Shapiro-Wilk normality test'"
      ],
      "text/plain": [
       "$method\n",
       "[1] \"Shapiro-Wilk normality test\"\n"
      ]
     },
     "metadata": {},
     "output_type": "display_data"
    },
    {
     "data": {
      "text/html": [
       "<strong>$p.value</strong> = 0.00199722970265007"
      ],
      "text/latex": [
       "\\textbf{\\$p.value} = 0.00199722970265007"
      ],
      "text/markdown": [
       "**$p.value** = 0.00199722970265007"
      ],
      "text/plain": [
       "$p.value\n",
       "[1] 0.00199723\n"
      ]
     },
     "metadata": {},
     "output_type": "display_data"
    },
    {
     "data": {
      "text/html": [
       "<strong>$p.value</strong> = 0.0468169615541657"
      ],
      "text/latex": [
       "\\textbf{\\$p.value} = 0.0468169615541657"
      ],
      "text/markdown": [
       "**$p.value** = 0.0468169615541657"
      ],
      "text/plain": [
       "$p.value\n",
       "[1] 0.04681696\n"
      ]
     },
     "metadata": {},
     "output_type": "display_data"
    },
    {
     "data": {
      "text/html": [
       "<strong>$p.value</strong> = 0.0919288827285471"
      ],
      "text/latex": [
       "\\textbf{\\$p.value} = 0.0919288827285471"
      ],
      "text/markdown": [
       "**$p.value** = 0.0919288827285471"
      ],
      "text/plain": [
       "$p.value\n",
       "[1] 0.09192888\n"
      ]
     },
     "metadata": {},
     "output_type": "display_data"
    },
    {
     "data": {
      "text/html": [
       "<strong>$p.value</strong> = 0.432382994837461"
      ],
      "text/latex": [
       "\\textbf{\\$p.value} = 0.432382994837461"
      ],
      "text/markdown": [
       "**$p.value** = 0.432382994837461"
      ],
      "text/plain": [
       "$p.value\n",
       "[1] 0.432383\n"
      ]
     },
     "metadata": {},
     "output_type": "display_data"
    },
    {
     "data": {
      "text/html": [
       "'------------------------------------------------------'"
      ],
      "text/latex": [
       "'------------------------------------------------------'"
      ],
      "text/markdown": [
       "'------------------------------------------------------'"
      ],
      "text/plain": [
       "[1] \"------------------------------------------------------\""
      ]
     },
     "metadata": {},
     "output_type": "display_data"
    },
    {
     "data": {
      "text/html": [
       "<strong>$method</strong> = 'F test to compare two variances'"
      ],
      "text/latex": [
       "\\textbf{\\$method} = 'F test to compare two variances'"
      ],
      "text/markdown": [
       "**$method** = 'F test to compare two variances'"
      ],
      "text/plain": [
       "$method\n",
       "[1] \"F test to compare two variances\"\n"
      ]
     },
     "metadata": {},
     "output_type": "display_data"
    },
    {
     "data": {
      "text/html": [
       "<strong>$p.value</strong> = 0.000473544046922677"
      ],
      "text/latex": [
       "\\textbf{\\$p.value} = 0.000473544046922677"
      ],
      "text/markdown": [
       "**$p.value** = 0.000473544046922677"
      ],
      "text/plain": [
       "$p.value\n",
       "[1] 0.000473544\n"
      ]
     },
     "metadata": {},
     "output_type": "display_data"
    },
    {
     "data": {
      "text/html": [
       "<strong>$p.value</strong> = 0.0151109096659578"
      ],
      "text/latex": [
       "\\textbf{\\$p.value} = 0.0151109096659578"
      ],
      "text/markdown": [
       "**$p.value** = 0.0151109096659578"
      ],
      "text/plain": [
       "$p.value\n",
       "[1] 0.01511091\n"
      ]
     },
     "metadata": {},
     "output_type": "display_data"
    }
   ],
   "source": [
    "gse <- getGEO(\"GSE60926\",GSEMatrix=TRUE)\n",
    "gse <- gse[[1]]\n",
    "\n",
    "#exp data\n",
    "eset <- exprs(gse)\n",
    "\n",
    "#probe id to gene symbol\n",
    "fset <- fData(gse)\n",
    "\n",
    "symbols <- fset[,\"Gene Symbol\"]\n",
    "rownames(eset) <- symbols\n",
    "\n",
    "pset <- phenoData(gse)\n",
    "\n",
    "eset <- 2^(eset) #denomalizing\n",
    "\n",
    "pset_d = pset$'source_name_ch1' == 'ALL - bone marrow - Diagnosis'\n",
    "pset_r = pset$'source_name_ch1' == 'ALL - bone marrow - Relapse'\n",
    "\n",
    "eset_d = eset[,pset$'source_name_ch1' == 'ALL - bone marrow - Diagnosis']\n",
    "eset_r = eset[,pset$'source_name_ch1' == 'ALL - bone marrow - Relapse']\n",
    "\n",
    "eset_d_smc2 = eset_d[which(rownames(eset_d) == \"SMC2\")[1],]\n",
    "eset_r_smc2 = eset_r[which(rownames(eset_r) == \"SMC2\")[1],]\n",
    "\n",
    "eset_d_smc4 = eset_d[which(rownames(eset_d) == \"SMC4\")[1],]\n",
    "eset_r_smc4 = eset_r[which(rownames(eset_r) == \"SMC4\")[1],]\n",
    "\n",
    "\n",
    "shapiro.test(eset_d_smc2)[3]\n",
    "shapiro.test(eset_d_smc2)[2]\n",
    "shapiro.test(eset_r_smc2)[2]\n",
    "shapiro.test(eset_d_smc4)[2]\n",
    "shapiro.test(eset_r_smc4)[2]\n",
    "'------------------------------------------------------'\n",
    "var.test(eset_d_smc2, eset_r_smc2)[8]\n",
    "var.test(eset_d_smc2, eset_r_smc2)[3]\n",
    "var.test(eset_d_smc4, eset_r_smc4)[3]"
   ]
  },
  {
   "cell_type": "code",
   "execution_count": 3,
   "metadata": {},
   "outputs": [
    {
     "data": {
      "text/html": [
       "89.6886828376938"
      ],
      "text/latex": [
       "89.6886828376938"
      ],
      "text/markdown": [
       "89.6886828376938"
      ],
      "text/plain": [
       "[1] 89.68868"
      ]
     },
     "metadata": {},
     "output_type": "display_data"
    },
    {
     "data": {
      "text/html": [
       "149.031633977932"
      ],
      "text/latex": [
       "149.031633977932"
      ],
      "text/markdown": [
       "149.031633977932"
      ],
      "text/plain": [
       "[1] 149.0316"
      ]
     },
     "metadata": {},
     "output_type": "display_data"
    },
    {
     "data": {
      "text/html": [
       "<strong>$p.value</strong> = 0.0122310649349907"
      ],
      "text/latex": [
       "\\textbf{\\$p.value} = 0.0122310649349907"
      ],
      "text/markdown": [
       "**$p.value** = 0.0122310649349907"
      ],
      "text/plain": [
       "$p.value\n",
       "[1] 0.01223106\n"
      ]
     },
     "metadata": {},
     "output_type": "display_data"
    }
   ],
   "source": [
    "mean(eset_d_smc2)\n",
    "mean(eset_r_smc2)\n",
    "t.test(eset_d_smc2, eset_r_smc2, paired=FALSE, var.equal = TRUE, conf.level=0.95)[3]"
   ]
  },
  {
   "cell_type": "code",
   "execution_count": 4,
   "metadata": {},
   "outputs": [
    {
     "data": {
      "text/html": [
       "436.742560429585"
      ],
      "text/latex": [
       "436.742560429585"
      ],
      "text/markdown": [
       "436.742560429585"
      ],
      "text/plain": [
       "[1] 436.7426"
      ]
     },
     "metadata": {},
     "output_type": "display_data"
    },
    {
     "data": {
      "text/html": [
       "645.443607836946"
      ],
      "text/latex": [
       "645.443607836946"
      ],
      "text/markdown": [
       "645.443607836946"
      ],
      "text/plain": [
       "[1] 645.4436"
      ]
     },
     "metadata": {},
     "output_type": "display_data"
    },
    {
     "data": {
      "text/html": [
       "<strong>$p.value</strong> = 0.00418486264654447"
      ],
      "text/latex": [
       "\\textbf{\\$p.value} = 0.00418486264654447"
      ],
      "text/markdown": [
       "**$p.value** = 0.00418486264654447"
      ],
      "text/plain": [
       "$p.value\n",
       "[1] 0.004184863\n"
      ]
     },
     "metadata": {},
     "output_type": "display_data"
    }
   ],
   "source": [
    "mean(eset_d_smc4)\n",
    "mean(eset_r_smc4)\n",
    "wilcox.test(eset_d_smc4, eset_r_smc4, paired=FALSE, var.equal = TRUE, conf.level=0.95)[3]"
   ]
  },
  {
   "cell_type": "code",
   "execution_count": 5,
   "metadata": {},
   "outputs": [],
   "source": [
    "data <- data.frame(\n",
    "  name=c( rep(\"SMC2_diagnosis\",22), rep(\"SMC2_relapse\",20), rep(\"SMC4_diagnosis\",22), rep(\"SMC4_relapse\",20)),\n",
    "  value=c( eset_d_smc2, eset_r_smc2, eset_d_smc4, eset_r_smc4)\n",
    ")\n",
    "\n",
    "write.csv(data, './GSE60926.csv', row.names=FALSE)"
   ]
  },
  {
   "cell_type": "markdown",
   "metadata": {},
   "source": [
    "---\n",
    "## GSE28460"
   ]
  },
  {
   "cell_type": "code",
   "execution_count": 6,
   "metadata": {},
   "outputs": [
    {
     "name": "stderr",
     "output_type": "stream",
     "text": [
      "Found 1 file(s)\n",
      "GSE28460_series_matrix.txt.gz\n",
      "Parsed with column specification:\n",
      "cols(\n",
      "  .default = col_double(),\n",
      "  ID_REF = col_character()\n",
      ")\n",
      "See spec(...) for full column specifications.\n",
      "Using locally cached version of GPL570 found here:\n",
      "C:\\Users\\BIOINF~1\\AppData\\Local\\Temp\\RtmpAJx8zJ/GPL570.soft \n"
     ]
    },
    {
     "data": {
      "text/html": [
       "<strong>$method</strong> = 'Shapiro-Wilk normality test'"
      ],
      "text/latex": [
       "\\textbf{\\$method} = 'Shapiro-Wilk normality test'"
      ],
      "text/markdown": [
       "**$method** = 'Shapiro-Wilk normality test'"
      ],
      "text/plain": [
       "$method\n",
       "[1] \"Shapiro-Wilk normality test\"\n"
      ]
     },
     "metadata": {},
     "output_type": "display_data"
    },
    {
     "data": {
      "text/html": [
       "<strong>$p.value</strong> = 1.36371499682292e-05"
      ],
      "text/latex": [
       "\\textbf{\\$p.value} = 1.36371499682292e-05"
      ],
      "text/markdown": [
       "**$p.value** = 1.36371499682292e-05"
      ],
      "text/plain": [
       "$p.value\n",
       "[1] 1.363715e-05\n"
      ]
     },
     "metadata": {},
     "output_type": "display_data"
    },
    {
     "data": {
      "text/html": [
       "<strong>$p.value</strong> = 0.0073912670607196"
      ],
      "text/latex": [
       "\\textbf{\\$p.value} = 0.0073912670607196"
      ],
      "text/markdown": [
       "**$p.value** = 0.0073912670607196"
      ],
      "text/plain": [
       "$p.value\n",
       "[1] 0.007391267\n"
      ]
     },
     "metadata": {},
     "output_type": "display_data"
    },
    {
     "data": {
      "text/html": [
       "<strong>$p.value</strong> = 1.14120895229633e-05"
      ],
      "text/latex": [
       "\\textbf{\\$p.value} = 1.14120895229633e-05"
      ],
      "text/markdown": [
       "**$p.value** = 1.14120895229633e-05"
      ],
      "text/plain": [
       "$p.value\n",
       "[1] 1.141209e-05\n"
      ]
     },
     "metadata": {},
     "output_type": "display_data"
    },
    {
     "data": {
      "text/html": [
       "<strong>$p.value</strong> = 0.0455952123575979"
      ],
      "text/latex": [
       "\\textbf{\\$p.value} = 0.0455952123575979"
      ],
      "text/markdown": [
       "**$p.value** = 0.0455952123575979"
      ],
      "text/plain": [
       "$p.value\n",
       "[1] 0.04559521\n"
      ]
     },
     "metadata": {},
     "output_type": "display_data"
    },
    {
     "data": {
      "text/html": [
       "'------------------------------------------------------'"
      ],
      "text/latex": [
       "'------------------------------------------------------'"
      ],
      "text/markdown": [
       "'------------------------------------------------------'"
      ],
      "text/plain": [
       "[1] \"------------------------------------------------------\""
      ]
     },
     "metadata": {},
     "output_type": "display_data"
    },
    {
     "data": {
      "text/html": [
       "<strong>$method</strong> = 'F test to compare two variances'"
      ],
      "text/latex": [
       "\\textbf{\\$method} = 'F test to compare two variances'"
      ],
      "text/markdown": [
       "**$method** = 'F test to compare two variances'"
      ],
      "text/plain": [
       "$method\n",
       "[1] \"F test to compare two variances\"\n"
      ]
     },
     "metadata": {},
     "output_type": "display_data"
    },
    {
     "data": {
      "text/html": [
       "<strong>$p.value</strong> = 0.968182612614407"
      ],
      "text/latex": [
       "\\textbf{\\$p.value} = 0.968182612614407"
      ],
      "text/markdown": [
       "**$p.value** = 0.968182612614407"
      ],
      "text/plain": [
       "$p.value\n",
       "[1] 0.9681826\n"
      ]
     },
     "metadata": {},
     "output_type": "display_data"
    },
    {
     "data": {
      "text/html": [
       "<strong>$p.value</strong> = 0.420614348819809"
      ],
      "text/latex": [
       "\\textbf{\\$p.value} = 0.420614348819809"
      ],
      "text/markdown": [
       "**$p.value** = 0.420614348819809"
      ],
      "text/plain": [
       "$p.value\n",
       "[1] 0.4206143\n"
      ]
     },
     "metadata": {},
     "output_type": "display_data"
    }
   ],
   "source": [
    "gse <- getGEO(\"GSE28460\",GSEMatrix=TRUE)\n",
    "gse <- gse[[1]]\n",
    "\n",
    "#exp data\n",
    "eset <- exprs(gse)\n",
    "\n",
    "#probe id to gene symbol\n",
    "fset <- fData(gse)\n",
    "\n",
    "symbols <- fset[,\"Gene Symbol\"]\n",
    "rownames(eset) <- symbols\n",
    "\n",
    "pset <- phenoData(gse)\n",
    "\n",
    "pset_d = pset$'source_name_ch1' == 'diagnosis'\n",
    "pset_r = pset$'source_name_ch1' == 'relapse'\n",
    "\n",
    "eset_d = eset[,pset$'source_name_ch1' == 'diagnosis']\n",
    "eset_r = eset[,pset$'source_name_ch1' == 'relapse']\n",
    "\n",
    "eset_d_smc2 = eset_d[which(rownames(eset_d) == \"SMC2\")[1],]\n",
    "eset_r_smc2 = eset_r[which(rownames(eset_r) == \"SMC2\")[1],]\n",
    "\n",
    "eset_d_smc4 = eset_d[which(rownames(eset_d) == \"SMC4\")[1],]\n",
    "eset_r_smc4 = eset_r[which(rownames(eset_r) == \"SMC4\")[1],]\n",
    "\n",
    "\n",
    "shapiro.test(eset_d_smc2)[3]\n",
    "shapiro.test(eset_d_smc2)[2]\n",
    "shapiro.test(eset_r_smc2)[2]\n",
    "shapiro.test(eset_d_smc4)[2]\n",
    "shapiro.test(eset_r_smc4)[2]\n",
    "'------------------------------------------------------'\n",
    "var.test(eset_d_smc2, eset_r_smc2)[8]\n",
    "var.test(eset_d_smc2, eset_r_smc2)[3]\n",
    "var.test(eset_d_smc4, eset_r_smc4)[3]"
   ]
  },
  {
   "cell_type": "code",
   "execution_count": 7,
   "metadata": {},
   "outputs": [
    {
     "data": {
      "text/html": [
       "722.886875041837"
      ],
      "text/latex": [
       "722.886875041837"
      ],
      "text/markdown": [
       "722.886875041837"
      ],
      "text/plain": [
       "[1] 722.8869"
      ]
     },
     "metadata": {},
     "output_type": "display_data"
    },
    {
     "data": {
      "text/html": [
       "898.187036436735"
      ],
      "text/latex": [
       "898.187036436735"
      ],
      "text/markdown": [
       "898.187036436735"
      ],
      "text/plain": [
       "[1] 898.187"
      ]
     },
     "metadata": {},
     "output_type": "display_data"
    },
    {
     "data": {
      "text/html": [
       "<strong>$p.value</strong> = 0.11906733011838"
      ],
      "text/latex": [
       "\\textbf{\\$p.value} = 0.11906733011838"
      ],
      "text/markdown": [
       "**$p.value** = 0.11906733011838"
      ],
      "text/plain": [
       "$p.value\n",
       "[1] 0.1190673\n"
      ]
     },
     "metadata": {},
     "output_type": "display_data"
    }
   ],
   "source": [
    "mean(eset_d_smc2)\n",
    "mean(eset_r_smc2)\n",
    "t.test(eset_d_smc2, eset_r_smc2, paired=FALSE, var.equal = FALSE, conf.level=0.95)[3]"
   ]
  },
  {
   "cell_type": "code",
   "execution_count": 8,
   "metadata": {},
   "outputs": [
    {
     "data": {
      "text/html": [
       "2602.23367568367"
      ],
      "text/latex": [
       "2602.23367568367"
      ],
      "text/markdown": [
       "2602.23367568367"
      ],
      "text/plain": [
       "[1] 2602.234"
      ]
     },
     "metadata": {},
     "output_type": "display_data"
    },
    {
     "data": {
      "text/html": [
       "2545.02441638367"
      ],
      "text/latex": [
       "2545.02441638367"
      ],
      "text/markdown": [
       "2545.02441638367"
      ],
      "text/plain": [
       "[1] 2545.024"
      ]
     },
     "metadata": {},
     "output_type": "display_data"
    },
    {
     "data": {
      "text/html": [
       "<strong>$p.value</strong> = 0.847225466956284"
      ],
      "text/latex": [
       "\\textbf{\\$p.value} = 0.847225466956284"
      ],
      "text/markdown": [
       "**$p.value** = 0.847225466956284"
      ],
      "text/plain": [
       "$p.value\n",
       "[1] 0.8472255\n"
      ]
     },
     "metadata": {},
     "output_type": "display_data"
    }
   ],
   "source": [
    "mean(eset_d_smc4)\n",
    "mean(eset_r_smc4)\n",
    "t.test(eset_d_smc4, eset_r_smc4, paired=FALSE, var.equal = FALSE, conf.level=0.95)[3]"
   ]
  },
  {
   "cell_type": "code",
   "execution_count": 9,
   "metadata": {},
   "outputs": [],
   "source": [
    "data <- data.frame(\n",
    "  name=c( rep(\"SMC2_diagnosis\",49), rep(\"SMC2_relapse\",49), rep(\"SMC4_diagnosis\",49), rep(\"SMC4_relapse\",49)),\n",
    "  value=c( eset_d_smc2, eset_r_smc2, eset_d_smc4, eset_r_smc4)\n",
    ")\n",
    "\n",
    "write.csv(data, './GSE28460.csv', row.names=FALSE)"
   ]
  },
  {
   "cell_type": "markdown",
   "metadata": {},
   "source": [
    "---\n",
    "## GSE13576"
   ]
  },
  {
   "cell_type": "code",
   "execution_count": 2,
   "metadata": {},
   "outputs": [
    {
     "name": "stderr",
     "output_type": "stream",
     "text": [
      "Found 1 file(s)\n",
      "GSE13576_series_matrix.txt.gz\n",
      "Parsed with column specification:\n",
      "cols(\n",
      "  .default = col_double(),\n",
      "  ID_REF = col_character()\n",
      ")\n",
      "See spec(...) for full column specifications.\n",
      "File stored at: \n",
      "C:\\Users\\BIOINF~1\\AppData\\Local\\Temp\\RtmpoZVSeI/GPL570.soft\n"
     ]
    },
    {
     "data": {
      "text/html": [
       "<strong>$method</strong> = 'Shapiro-Wilk normality test'"
      ],
      "text/latex": [
       "\\textbf{\\$method} = 'Shapiro-Wilk normality test'"
      ],
      "text/markdown": [
       "**$method** = 'Shapiro-Wilk normality test'"
      ],
      "text/plain": [
       "$method\n",
       "[1] \"Shapiro-Wilk normality test\"\n"
      ]
     },
     "metadata": {},
     "output_type": "display_data"
    },
    {
     "data": {
      "text/html": [
       "<strong>$p.value</strong> = 3.78280914471172e-11"
      ],
      "text/latex": [
       "\\textbf{\\$p.value} = 3.78280914471172e-11"
      ],
      "text/markdown": [
       "**$p.value** = 3.78280914471172e-11"
      ],
      "text/plain": [
       "$p.value\n",
       "[1] 3.782809e-11\n"
      ]
     },
     "metadata": {},
     "output_type": "display_data"
    },
    {
     "data": {
      "text/html": [
       "<strong>$p.value</strong> = 0.0322810271546264"
      ],
      "text/latex": [
       "\\textbf{\\$p.value} = 0.0322810271546264"
      ],
      "text/markdown": [
       "**$p.value** = 0.0322810271546264"
      ],
      "text/plain": [
       "$p.value\n",
       "[1] 0.03228103\n"
      ]
     },
     "metadata": {},
     "output_type": "display_data"
    },
    {
     "data": {
      "text/html": [
       "<strong>$p.value</strong> = 0.00132857723715931"
      ],
      "text/latex": [
       "\\textbf{\\$p.value} = 0.00132857723715931"
      ],
      "text/markdown": [
       "**$p.value** = 0.00132857723715931"
      ],
      "text/plain": [
       "$p.value\n",
       "[1] 0.001328577\n"
      ]
     },
     "metadata": {},
     "output_type": "display_data"
    },
    {
     "data": {
      "text/html": [
       "<strong>$p.value</strong> = 4.59857544913558e-05"
      ],
      "text/latex": [
       "\\textbf{\\$p.value} = 4.59857544913558e-05"
      ],
      "text/markdown": [
       "**$p.value** = 4.59857544913558e-05"
      ],
      "text/plain": [
       "$p.value\n",
       "[1] 4.598575e-05\n"
      ]
     },
     "metadata": {},
     "output_type": "display_data"
    },
    {
     "data": {
      "text/html": [
       "'------------------------------------------------------'"
      ],
      "text/latex": [
       "'------------------------------------------------------'"
      ],
      "text/markdown": [
       "'------------------------------------------------------'"
      ],
      "text/plain": [
       "[1] \"------------------------------------------------------\""
      ]
     },
     "metadata": {},
     "output_type": "display_data"
    },
    {
     "data": {
      "text/html": [
       "<strong>$method</strong> = 'F test to compare two variances'"
      ],
      "text/latex": [
       "\\textbf{\\$method} = 'F test to compare two variances'"
      ],
      "text/markdown": [
       "**$method** = 'F test to compare two variances'"
      ],
      "text/plain": [
       "$method\n",
       "[1] \"F test to compare two variances\"\n"
      ]
     },
     "metadata": {},
     "output_type": "display_data"
    },
    {
     "data": {
      "text/html": [
       "<strong>$p.value</strong> = 0.146869609743632"
      ],
      "text/latex": [
       "\\textbf{\\$p.value} = 0.146869609743632"
      ],
      "text/markdown": [
       "**$p.value** = 0.146869609743632"
      ],
      "text/plain": [
       "$p.value\n",
       "[1] 0.1468696\n"
      ]
     },
     "metadata": {},
     "output_type": "display_data"
    },
    {
     "data": {
      "text/html": [
       "<strong>$p.value</strong> = 0.0178227513479242"
      ],
      "text/latex": [
       "\\textbf{\\$p.value} = 0.0178227513479242"
      ],
      "text/markdown": [
       "**$p.value** = 0.0178227513479242"
      ],
      "text/plain": [
       "$p.value\n",
       "[1] 0.01782275\n"
      ]
     },
     "metadata": {},
     "output_type": "display_data"
    }
   ],
   "source": [
    "gse <- getGEO(\"GSE13576\",GSEMatrix=TRUE)\n",
    "gse <- gse[[1]]\n",
    "\n",
    "#exp data\n",
    "eset <- exprs(gse)\n",
    "\n",
    "#probe id to gene symbol\n",
    "fset <- fData(gse)\n",
    "\n",
    "symbols <- fset[,\"Gene Symbol\"]\n",
    "rownames(eset) <- symbols\n",
    "\n",
    "pset <- phenoData(gse)\n",
    "\n",
    "eset <- 2^(eset) #denomalizing\n",
    "\n",
    "pset_d = pset$'source_name_ch1' == 'no relapse'\n",
    "pset_r = pset$'source_name_ch1'[regexpr(\"early\", pset$'source_name_ch1') == TRUE | regexpr(\"late\", pset$'source_name_ch1') == TRUE]\n",
    "\n",
    "eset_d = eset[,pset$'source_name_ch1' == 'no relapse']\n",
    "eset_r = eset[,regexpr(\"early\", pset$'source_name_ch1') == TRUE | regexpr(\"late\", pset$'source_name_ch1') == TRUE]\n",
    "\n",
    "eset_d_smc2 = eset_d[which(rownames(eset_d) == \"SMC2\")[1],]\n",
    "eset_r_smc2 = eset_r[which(rownames(eset_r) == \"SMC2\")[1],]\n",
    "\n",
    "eset_d_smc4 = eset_d[which(rownames(eset_d) == \"SMC4\")[1],]\n",
    "eset_r_smc4 = eset_r[which(rownames(eset_r) == \"SMC4\")[1],]\n",
    "\n",
    "\n",
    "shapiro.test(eset_d_smc2)[3]\n",
    "shapiro.test(eset_d_smc2)[2]\n",
    "shapiro.test(eset_r_smc2)[2]\n",
    "shapiro.test(eset_d_smc4)[2]\n",
    "shapiro.test(eset_r_smc4)[2]\n",
    "'------------------------------------------------------'\n",
    "var.test(eset_d_smc2, eset_r_smc2)[8]\n",
    "var.test(eset_d_smc2, eset_r_smc2)[3]\n",
    "var.test(eset_d_smc4, eset_r_smc4)[3]"
   ]
  },
  {
   "cell_type": "code",
   "execution_count": 3,
   "metadata": {},
   "outputs": [
    {
     "data": {
      "text/html": [
       "64.6734135606905"
      ],
      "text/latex": [
       "64.6734135606905"
      ],
      "text/markdown": [
       "64.6734135606905"
      ],
      "text/plain": [
       "[1] 64.67341"
      ]
     },
     "metadata": {},
     "output_type": "display_data"
    },
    {
     "data": {
      "text/html": [
       "64.8642522978179"
      ],
      "text/latex": [
       "64.8642522978179"
      ],
      "text/markdown": [
       "64.8642522978179"
      ],
      "text/plain": [
       "[1] 64.86425"
      ]
     },
     "metadata": {},
     "output_type": "display_data"
    },
    {
     "data": {
      "text/html": [
       "<strong>$p.value</strong> = 0.979133645846302"
      ],
      "text/latex": [
       "\\textbf{\\$p.value} = 0.979133645846302"
      ],
      "text/markdown": [
       "**$p.value** = 0.979133645846302"
      ],
      "text/plain": [
       "$p.value\n",
       "[1] 0.9791336\n"
      ]
     },
     "metadata": {},
     "output_type": "display_data"
    }
   ],
   "source": [
    "mean(eset_d_smc2)\n",
    "mean(eset_r_smc2)\n",
    "t.test(eset_d_smc2, eset_r_smc2, paired=FALSE, var.equal = FALSE, conf.level=0.95)[3]"
   ]
  },
  {
   "cell_type": "code",
   "execution_count": 4,
   "metadata": {},
   "outputs": [
    {
     "data": {
      "text/html": [
       "439.536022627876"
      ],
      "text/latex": [
       "439.536022627876"
      ],
      "text/markdown": [
       "439.536022627876"
      ],
      "text/plain": [
       "[1] 439.536"
      ]
     },
     "metadata": {},
     "output_type": "display_data"
    },
    {
     "data": {
      "text/html": [
       "460.708255226582"
      ],
      "text/latex": [
       "460.708255226582"
      ],
      "text/markdown": [
       "460.708255226582"
      ],
      "text/plain": [
       "[1] 460.7083"
      ]
     },
     "metadata": {},
     "output_type": "display_data"
    },
    {
     "data": {
      "text/html": [
       "<strong>$p.value</strong> = 0.598323672439526"
      ],
      "text/latex": [
       "\\textbf{\\$p.value} = 0.598323672439526"
      ],
      "text/markdown": [
       "**$p.value** = 0.598323672439526"
      ],
      "text/plain": [
       "$p.value\n",
       "[1] 0.5983237\n"
      ]
     },
     "metadata": {},
     "output_type": "display_data"
    }
   ],
   "source": [
    "mean(eset_d_smc4)\n",
    "mean(eset_r_smc4)\n",
    "t.test(eset_d_smc4, eset_r_smc4, paired=FALSE, var.equal = TRUE, conf.level=0.95)[3]"
   ]
  },
  {
   "cell_type": "code",
   "execution_count": 8,
   "metadata": {},
   "outputs": [],
   "source": [
    "data <- data.frame(\n",
    "  name=c( rep(\"SMC2_diagnosis\",165), rep(\"SMC2_relapse\",32), rep(\"SMC4_diagnosis\",165), rep(\"SMC4_relapse\",32)),\n",
    "  value=c( eset_d_smc2, eset_r_smc2, eset_d_smc4, eset_r_smc4)\n",
    ")\n",
    "\n",
    "write.csv(data, './GSE13576.csv', row.names=FALSE)"
   ]
  },
  {
   "cell_type": "markdown",
   "metadata": {},
   "source": [
    "---\n",
    "## TARGET-ALL"
   ]
  },
  {
   "cell_type": "code",
   "execution_count": 14,
   "metadata": {},
   "outputs": [
    {
     "data": {
      "text/html": [
       "<strong>$method</strong> = 'Shapiro-Wilk normality test'"
      ],
      "text/latex": [
       "\\textbf{\\$method} = 'Shapiro-Wilk normality test'"
      ],
      "text/markdown": [
       "**$method** = 'Shapiro-Wilk normality test'"
      ],
      "text/plain": [
       "$method\n",
       "[1] \"Shapiro-Wilk normality test\"\n"
      ]
     },
     "metadata": {},
     "output_type": "display_data"
    },
    {
     "data": {
      "text/html": [
       "<strong>$p.value</strong> = 1.00057952909265e-09"
      ],
      "text/latex": [
       "\\textbf{\\$p.value} = 1.00057952909265e-09"
      ],
      "text/markdown": [
       "**$p.value** = 1.00057952909265e-09"
      ],
      "text/plain": [
       "$p.value\n",
       "[1] 1.00058e-09\n"
      ]
     },
     "metadata": {},
     "output_type": "display_data"
    },
    {
     "data": {
      "text/html": [
       "<strong>$p.value</strong> = 8.49495008378237e-13"
      ],
      "text/latex": [
       "\\textbf{\\$p.value} = 8.49495008378237e-13"
      ],
      "text/markdown": [
       "**$p.value** = 8.49495008378237e-13"
      ],
      "text/plain": [
       "$p.value\n",
       "[1] 8.49495e-13\n"
      ]
     },
     "metadata": {},
     "output_type": "display_data"
    },
    {
     "data": {
      "text/html": [
       "<strong>$p.value</strong> = 0.000124006091808432"
      ],
      "text/latex": [
       "\\textbf{\\$p.value} = 0.000124006091808432"
      ],
      "text/markdown": [
       "**$p.value** = 0.000124006091808432"
      ],
      "text/plain": [
       "$p.value\n",
       "[1] 0.0001240061\n"
      ]
     },
     "metadata": {},
     "output_type": "display_data"
    },
    {
     "data": {
      "text/html": [
       "<strong>$p.value</strong> = 3.05137259871127e-06"
      ],
      "text/latex": [
       "\\textbf{\\$p.value} = 3.05137259871127e-06"
      ],
      "text/markdown": [
       "**$p.value** = 3.05137259871127e-06"
      ],
      "text/plain": [
       "$p.value\n",
       "[1] 3.051373e-06\n"
      ]
     },
     "metadata": {},
     "output_type": "display_data"
    },
    {
     "data": {
      "text/html": [
       "<strong>$method</strong> = 'F test to compare two variances'"
      ],
      "text/latex": [
       "\\textbf{\\$method} = 'F test to compare two variances'"
      ],
      "text/markdown": [
       "**$method** = 'F test to compare two variances'"
      ],
      "text/plain": [
       "$method\n",
       "[1] \"F test to compare two variances\"\n"
      ]
     },
     "metadata": {},
     "output_type": "display_data"
    },
    {
     "data": {
      "text/html": [
       "<strong>$p.value</strong> = 6.29776111186552e-12"
      ],
      "text/latex": [
       "\\textbf{\\$p.value} = 6.29776111186552e-12"
      ],
      "text/markdown": [
       "**$p.value** = 6.29776111186552e-12"
      ],
      "text/plain": [
       "$p.value\n",
       "[1] 6.297761e-12\n"
      ]
     },
     "metadata": {},
     "output_type": "display_data"
    },
    {
     "data": {
      "text/html": [
       "<strong>$p.value</strong> = 0.26675187993073"
      ],
      "text/latex": [
       "\\textbf{\\$p.value} = 0.26675187993073"
      ],
      "text/markdown": [
       "**$p.value** = 0.26675187993073"
      ],
      "text/plain": [
       "$p.value\n",
       "[1] 0.2667519\n"
      ]
     },
     "metadata": {},
     "output_type": "display_data"
    }
   ],
   "source": [
    "dia <- read.csv('./dia.csv')\n",
    "rel <- read.csv('./rel.csv')\n",
    "\n",
    "shapiro.test(dia[1:185,'SMC2'])[3]\n",
    "shapiro.test(dia[1:185,'SMC2'])[2]\n",
    "shapiro.test(rel[1:185,'SMC2'])[2]\n",
    "shapiro.test(dia[1:116,'SMC4'])[2]\n",
    "shapiro.test(rel[1:116,'SMC4'])[2]\n",
    "\n",
    "var.test(dia[1:185,'SMC2'], rel[1:116,'SMC2'])[8]\n",
    "var.test(dia[1:185,'SMC2'], rel[1:116,'SMC2'])[3]\n",
    "var.test(dia[1:185,'SMC4'], rel[1:116,'SMC4'])[3]"
   ]
  },
  {
   "cell_type": "code",
   "execution_count": 15,
   "metadata": {},
   "outputs": [
    {
     "data": {
      "text/html": [
       "369.008322648649"
      ],
      "text/latex": [
       "369.008322648649"
      ],
      "text/markdown": [
       "369.008322648649"
      ],
      "text/plain": [
       "[1] 369.0083"
      ]
     },
     "metadata": {},
     "output_type": "display_data"
    },
    {
     "data": {
      "text/html": [
       "516.346345948276"
      ],
      "text/latex": [
       "516.346345948276"
      ],
      "text/markdown": [
       "516.346345948276"
      ],
      "text/plain": [
       "[1] 516.3463"
      ]
     },
     "metadata": {},
     "output_type": "display_data"
    },
    {
     "data": {
      "text/html": [
       "<strong>$p.value</strong> = 0.00021691203845885"
      ],
      "text/latex": [
       "\\textbf{\\$p.value} = 0.00021691203845885"
      ],
      "text/markdown": [
       "**$p.value** = 0.00021691203845885"
      ],
      "text/plain": [
       "$p.value\n",
       "[1] 0.000216912\n"
      ]
     },
     "metadata": {},
     "output_type": "display_data"
    }
   ],
   "source": [
    "mean(dia[1:185,'SMC2'])\n",
    "mean(rel[1:116,'SMC2'])\n",
    "t.test(dia[1:185,'SMC2'], rel[1:116,'SMC2'], paired=FALSE, var.equal = TRUE, conf.level=0.95)[3]"
   ]
  },
  {
   "cell_type": "code",
   "execution_count": 16,
   "metadata": {},
   "outputs": [
    {
     "data": {
      "text/html": [
       "2884.12570378378"
      ],
      "text/latex": [
       "2884.12570378378"
      ],
      "text/markdown": [
       "2884.12570378378"
      ],
      "text/plain": [
       "[1] 2884.126"
      ]
     },
     "metadata": {},
     "output_type": "display_data"
    },
    {
     "data": {
      "text/html": [
       "3214.61809396552"
      ],
      "text/latex": [
       "3214.61809396552"
      ],
      "text/markdown": [
       "3214.61809396552"
      ],
      "text/plain": [
       "[1] 3214.618"
      ]
     },
     "metadata": {},
     "output_type": "display_data"
    },
    {
     "data": {
      "text/html": [
       "<strong>$p.value</strong> = 0.102195206527212"
      ],
      "text/latex": [
       "\\textbf{\\$p.value} = 0.102195206527212"
      ],
      "text/markdown": [
       "**$p.value** = 0.102195206527212"
      ],
      "text/plain": [
       "$p.value\n",
       "[1] 0.1021952\n"
      ]
     },
     "metadata": {},
     "output_type": "display_data"
    }
   ],
   "source": [
    "mean(dia[1:185,'SMC4'])\n",
    "mean(rel[1:116,'SMC4'])\n",
    "t.test(dia[1:185,'SMC4'], rel[1:116,'SMC4'], paired=FALSE, var.equal = FALSE, conf.level=0.95)[3]"
   ]
  },
  {
   "cell_type": "code",
   "execution_count": 17,
   "metadata": {},
   "outputs": [],
   "source": [
    "data <- data.frame(\n",
    "  name=c( rep(\"SMC2_diagnosis\",185), rep(\"SMC2_relapse\",116), rep(\"SMC4_diagnosis\",185), rep(\"SMC4_relapse\",116)),\n",
    "  value=c( dia[1:185,'SMC2'], rel[1:116,'SMC2'], dia[1:185,'SMC4'], rel[1:116,'SMC4'])\n",
    ")\n",
    "\n",
    "write.csv(data, './TARGET.csv', row.names=FALSE)"
   ]
  },
  {
   "cell_type": "code",
   "execution_count": null,
   "metadata": {},
   "outputs": [],
   "source": []
  }
 ],
 "metadata": {
  "kernelspec": {
   "display_name": "R",
   "language": "R",
   "name": "ir"
  },
  "language_info": {
   "codemirror_mode": "r",
   "file_extension": ".r",
   "mimetype": "text/x-r-source",
   "name": "R",
   "pygments_lexer": "r",
   "version": "3.5.1"
  }
 },
 "nbformat": 4,
 "nbformat_minor": 2
}
