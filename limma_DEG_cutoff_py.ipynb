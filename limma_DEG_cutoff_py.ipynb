{
 "cells": [
  {
   "cell_type": "code",
   "execution_count": 1,
   "metadata": {},
   "outputs": [],
   "source": [
    "import pandas as pd\n",
    "pd.set_option('display.max_columns', 600)\n",
    "pd.set_option('display.max_rows', 600)"
   ]
  },
  {
   "cell_type": "code",
   "execution_count": 2,
   "metadata": {},
   "outputs": [],
   "source": [
    "deg = pd.read_csv('./GSE19615_DEG_HRT_p.csv')\n",
    "deg2 = pd.read_csv('./GSE19615_DEG_HRT_n.csv')"
   ]
  },
  {
   "cell_type": "code",
   "execution_count": 3,
   "metadata": {},
   "outputs": [],
   "source": [
    "def degpl(deg):\n",
    "    m = deg['P.Value'] < 0.001\n",
    "    m_pl = deg['logFC'] > 1.5\n",
    "    \n",
    "    deg_pl = deg[m][m_pl]\n",
    "    \n",
    "    print('deg_pl: ', deg_pl.shape)\n",
    "    return deg_pl\n",
    "\n",
    "def degmi(deg):\n",
    "    m = deg['P.Value'] < 0.001\n",
    "    m_mi = deg['logFC'] < -1.5\n",
    "    \n",
    "    deg_mi = deg[m][m_mi]\n",
    "    print('deg_mi: ', deg_mi.shape)\n",
    "    return deg_mi"
   ]
  },
  {
   "cell_type": "code",
   "execution_count": 4,
   "metadata": {},
   "outputs": [
    {
     "name": "stdout",
     "output_type": "stream",
     "text": [
      "deg----------------------------\n",
      "deg_pl:  (116, 8)\n",
      "deg_mi:  (6, 8)\n",
      "\n",
      "deg2---------------------------\n",
      "deg_pl:  (62, 8)\n",
      "deg_mi:  (2, 8)\n"
     ]
    },
    {
     "name": "stderr",
     "output_type": "stream",
     "text": [
      "C:\\Users\\bioinfo205_01\\Anaconda3\\lib\\site-packages\\ipykernel_launcher.py:5: UserWarning: Boolean Series key will be reindexed to match DataFrame index.\n",
      "  \"\"\"\n",
      "C:\\Users\\bioinfo205_01\\Anaconda3\\lib\\site-packages\\ipykernel_launcher.py:14: UserWarning: Boolean Series key will be reindexed to match DataFrame index.\n",
      "  \n"
     ]
    }
   ],
   "source": [
    "print('deg----------------------------')\n",
    "deg_pl = degpl(deg)\n",
    "deg_mi = degmi(deg)\n",
    "\n",
    "print('\\ndeg2---------------------------')\n",
    "deg_pl2 = degpl(deg2)\n",
    "deg_mi2 = degmi(deg2)"
   ]
  },
  {
   "cell_type": "code",
   "execution_count": 5,
   "metadata": {},
   "outputs": [],
   "source": [
    "#pl\n",
    "deg_merge = pd.merge(deg_pl, deg_pl2,\n",
    "             how='left',\n",
    "             on='ID',\n",
    "             sort=True,\n",
    "             suffixes=('_x', '_y'),\n",
    "             indicator=False)\n",
    "\n",
    "try:\n",
    "    deg_merge['Unnamed: 0_y'] = deg_merge['Unnamed: 0_y'].fillna('NA')\n",
    "    m = deg_merge['Unnamed: 0_y'] == 'NA'\n",
    "    deg_merge = deg_merge[m]\n",
    "except: print('err')\n",
    "\n",
    "deg_merge.to_csv('./deg_pl.csv')"
   ]
  },
  {
   "cell_type": "code",
   "execution_count": 6,
   "metadata": {},
   "outputs": [],
   "source": [
    "#mi\n",
    "deg_merge = pd.merge(deg_mi, deg_pl2,\n",
    "             how='left',\n",
    "             on='ID',\n",
    "             sort=True,\n",
    "             suffixes=('_x', '_y'),\n",
    "             indicator=False)\n",
    "\n",
    "try:\n",
    "    deg_merge['Unnamed: 0_y'] = deg_merge['Unnamed: 0_y'].fillna('NA')\n",
    "    m = deg_merge['Unnamed: 0_y'] == 'NA'\n",
    "    deg_merge = deg_merge[m]\n",
    "except: print('err')\n",
    "\n",
    "deg_merge.to_csv('./deg_mi.csv')"
   ]
  }
 ],
 "metadata": {
  "kernelspec": {
   "display_name": "Python 3",
   "language": "python",
   "name": "python3"
  },
  "language_info": {
   "codemirror_mode": {
    "name": "ipython",
    "version": 3
   },
   "file_extension": ".py",
   "mimetype": "text/x-python",
   "name": "python",
   "nbconvert_exporter": "python",
   "pygments_lexer": "ipython3",
   "version": "3.7.1"
  }
 },
 "nbformat": 4,
 "nbformat_minor": 2
}
